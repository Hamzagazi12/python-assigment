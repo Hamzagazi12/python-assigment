{
 "cells": [
  {
   "cell_type": "code",
   "execution_count": 2,
   "id": "a5ef6482-30df-41f6-844a-8be9a55c2c5c",
   "metadata": {},
   "outputs": [
    {
     "name": "stdin",
     "output_type": "stream",
     "text": [
      "num 1  10\n",
      "num 2  3\n"
     ]
    },
    {
     "name": "stdout",
     "output_type": "stream",
     "text": [
      "Addition :- 13\n",
      "Subtraction :- 7\n",
      "Multiplication :- 30\n",
      "Division :- 3.3333333333333335\n",
      "Modulus :- 1\n",
      "Exponentation :- 1000\n",
      "Floor Division :- 3\n"
     ]
    }
   ],
   "source": [
    "x=int(input(\"num 1 \"))\n",
    "y=int(input(\"num 2 \"))\n",
    "print(\"Addition :-\",x+y)#addition of two numbers\n",
    "print(\"Subtraction :-\",x-y)#subtraction two numbers\n",
    "print(\"Multiplication :-\",x*y)# product of the two numbers\n",
    "print(\"Division :-\",x/y)#quotient by dividing the two numbers\n",
    "print(\"Modulus :-\",x%y)#remainder of the two numbers\n",
    "print(\"Exponentation :-\",x**y)#second is power of first\n",
    "print(\"Floor Division :-\",x//y)#floor division of the two numbers"
   ]
  },
  {
   "cell_type": "code",
   "execution_count": 5,
   "id": "7e331de2-ce19-4992-a9ae-6ff42b79df1d",
   "metadata": {},
   "outputs": [
    {
     "name": "stdin",
     "output_type": "stream",
     "text": [
      "num 1 10\n",
      "num 2 20\n"
     ]
    },
    {
     "name": "stdout",
     "output_type": "stream",
     "text": [
      "a<b\n"
     ]
    }
   ],
   "source": [
    "a=int(input(\"num 1\"))#input by user\n",
    "b=int(input(\"num 2\"))\n",
    "if a>b:#condition to check is number is greater or not\n",
    "    print(\"a>b\")\n",
    "elif a<b:#condition to ckeck is the number smaller \n",
    "    print(\"a<b\")\n",
    "else: \n",
    "    print(\"a=b\")"
   ]
  },
  {
   "cell_type": "code",
   "execution_count": 7,
   "id": "9fd9f764-d389-46d2-b44e-f3b14d85dcaf",
   "metadata": {},
   "outputs": [
    {
     "name": "stdin",
     "output_type": "stream",
     "text": [
      "enter value 1 true\n",
      "enter value 2 true\n",
      "enter value 3 true\n"
     ]
    },
    {
     "name": "stdout",
     "output_type": "stream",
     "text": [
      "True\n",
      "True\n",
      "False\n",
      "False\n",
      "False\n"
     ]
    }
   ],
   "source": [
    "b=input(\"enter value 1\").strip().lower()==\"true\"#strip() will clear all white spaces\n",
    "a=input(\"enter value 2\").strip().lower()==\"true\" #lower() will help to remove indentation\n",
    "c=input(\"enter value 3\").strip().lower()==\"true\"\n",
    "print(a and b and c)#\n",
    "print(a or b or c)\n",
    "print(not a)\n",
    "print(not b)\n",
    "print(not c)"
   ]
  },
  {
   "cell_type": "code",
   "execution_count": 9,
   "id": "64087417-2cd9-4323-9bc7-9948c06b15e4",
   "metadata": {},
   "outputs": [
    {
     "name": "stdin",
     "output_type": "stream",
     "text": [
      "enter a word hamza\n"
     ]
    },
    {
     "name": "stdout",
     "output_type": "stream",
     "text": [
      "5\n",
      "ha\n",
      "azmah\n",
      "HAMZA\n",
      "hamza\n"
     ]
    }
   ],
   "source": [
    "a=input(\"enter a word\")\n",
    "print(len(a))#this will print the length \n",
    "print(a[0]+a[-1])#it will print the first character\n",
    "print(a[::-1])#it will reverse the word\n",
    "print(a.upper())#it will print the word in the uppercase\n",
    "print(a.lower())#it will print the word in the lowercase"
   ]
  },
  {
   "cell_type": "code",
   "execution_count": 10,
   "id": "ff522866-13a1-4964-b921-135270e3c30f",
   "metadata": {},
   "outputs": [
    {
     "name": "stdin",
     "output_type": "stream",
     "text": [
      "enter your name hamza\n",
      "enter your age 20\n"
     ]
    },
    {
     "name": "stdout",
     "output_type": "stream",
     "text": [
      "hello hamza you are 20 years old\n"
     ]
    }
   ],
   "source": [
    "n=input(\"enter your name\")#enter the name\n",
    "a=int(input(\"enter your age\"))#enter the ahe in numbers\n",
    "print(\"hello\",n,\"you are\",a,\"years old\")"
   ]
  },
  {
   "cell_type": "code",
   "execution_count": 13,
   "id": "7b9ade09-d305-46b3-823c-2c798c065232",
   "metadata": {},
   "outputs": [
    {
     "name": "stdin",
     "output_type": "stream",
     "text": [
      "enter the no1:- 1\n",
      "enter the no2:- 2\n",
      "enter the no3:- 3\n",
      "enter the no4:- 4\n",
      "enter the no5:- 5\n"
     ]
    },
    {
     "name": "stdout",
     "output_type": "stream",
     "text": [
      "[1, 2, 3, 4, 5]\n",
      "15\n",
      "5\n",
      "1\n"
     ]
    }
   ],
   "source": [
    "a=[]#it will create an empty list\n",
    "for i in range(5):\n",
    "    b=int(input(f\"enter the no{i+1}:-\"))#it will take the input from the user\n",
    "    a.append(b)#it will append the a list\n",
    "c=sum(a)#it will print the sum of all\n",
    "d=max(a)#it will print the maximum value from the list\n",
    "e=min(a)#it will print the minimum value from the list\n",
    "print(a)\n",
    "print(c)\n",
    "print(d)\n",
    "print(e)"
   ]
  },
  {
   "cell_type": "code",
   "execution_count": 21,
   "id": "3d60b1d3-9dbe-4ff5-8287-5cda49689fa3",
   "metadata": {},
   "outputs": [
    {
     "name": "stdin",
     "output_type": "stream",
     "text": [
      "enter the fruits name1 orange\n",
      "enter the fruits name2 apple\n",
      "enter the fruits name3 melon\n",
      "enter the fruits name4 grapes\n",
      "enter the fruits name5 kiwi\n"
     ]
    },
    {
     "name": "stdout",
     "output_type": "stream",
     "text": [
      "['orange', 'apple', 'melon', 'grapes', 'kiwi']\n"
     ]
    },
    {
     "name": "stdin",
     "output_type": "stream",
     "text": [
      "Enter The Fruit banana\n"
     ]
    },
    {
     "name": "stdout",
     "output_type": "stream",
     "text": [
      "['orange', 'apple', 'melon', 'grapes', 'kiwi', 'banana']\n",
      "['orange', 'melon', 'grapes', 'kiwi', 'banana']\n"
     ]
    }
   ],
   "source": [
    "a=[] #empty list\n",
    "for i in range(5): #loops the input\n",
    "    b=input(f\"enter the fruits name{i+1}\")#input is being looped 5 times and also incrementing i by value by +1\n",
    "    a.append(b) #input is stored in list\n",
    "print(a)\n",
    "c=input(\"Enter The Fruit\")#inputting another float\n",
    "a.append(c)\n",
    "print(a)\n",
    "a.pop(1)#remove a value from list\n",
    "print(a)"
   ]
  },
  {
   "cell_type": "code",
   "execution_count": 26,
   "id": "9f044cad-04e5-4053-bff0-faf2811b4f88",
   "metadata": {},
   "outputs": [
    {
     "name": "stdin",
     "output_type": "stream",
     "text": [
      "enter the list1 3\n",
      "enter the list2 56\n",
      "enter the list3 54\n",
      "enter the list4 34\n",
      "enter the list5 3\n"
     ]
    },
    {
     "name": "stdout",
     "output_type": "stream",
     "text": [
      "['3', '3', '34', '54', '56']\n",
      "['56', '54', '34', '3', '3']\n"
     ]
    }
   ],
   "source": [
    "a=[]#empty list\n",
    "for i in range(5):#loops the input\n",
    "    b=input(f\"enter the list{i+1}\")#input is being looped 5 times and also incrementing i by value by +1\n",
    "    a.append(b)#input stored in list\n",
    "c=a.sort()#sorts in ascending order \n",
    "print(a)\n",
    "d=a.sort(reverse=True)#sorts the list in decending order \n",
    "print(a)"
   ]
  },
  {
   "cell_type": "code",
   "execution_count": 28,
   "id": "33faf674-6469-4c32-b97d-66e703bb7f56",
   "metadata": {},
   "outputs": [
    {
     "name": "stdout",
     "output_type": "stream",
     "text": [
      "[1, 2, 3, 4, 5]\n",
      "[6, 7, 8, 9, 10]\n",
      "[3, 4, 5, 6, 7, 8]\n"
     ]
    }
   ],
   "source": [
    "x=[1,2,3,4,5,6,7,8,9,10]\n",
    "print(x[:5])\n",
    "print(x[5:])\n",
    "print(x[2:8])"
   ]
  },
  {
   "cell_type": "code",
   "execution_count": 29,
   "id": "260dbf1b-29b5-4c39-9d75-aaa9deaabd57",
   "metadata": {},
   "outputs": [
    {
     "name": "stdin",
     "output_type": "stream",
     "text": [
      "Enter a sentence: my name is hamza\n",
      "Enter the word: cricket\n"
     ]
    },
    {
     "name": "stdout",
     "output_type": "stream",
     "text": [
      "The cricket word not found\n"
     ]
    }
   ],
   "source": [
    "a=input(\"Enter a sentence:\") #inputs by user\n",
    "b=input(\"Enter the word:\") #inputs by user which would be used to search \n",
    "c=a.find(b) #.find is used to search the input b from input a\n",
    "if c !=-1: #this is used to check if the word is found or not \n",
    "    print(\"The word\",b,\" found at \",c,\" index position\") #if found than this will be printed \n",
    "else:\n",
    "    print(\"The\",b, \"word not found\") #if not found than this will be printed"
   ]
  },
  {
   "cell_type": "code",
   "execution_count": null,
   "id": "46c9f03c-4e97-4be1-8f58-9ec5ff3b6f69",
   "metadata": {},
   "outputs": [],
   "source": []
  }
 ],
 "metadata": {
  "kernelspec": {
   "display_name": "Python 3 (ipykernel)",
   "language": "python",
   "name": "python3"
  },
  "language_info": {
   "codemirror_mode": {
    "name": "ipython",
    "version": 3
   },
   "file_extension": ".py",
   "mimetype": "text/x-python",
   "name": "python",
   "nbconvert_exporter": "python",
   "pygments_lexer": "ipython3",
   "version": "3.12.4"
  }
 },
 "nbformat": 4,
 "nbformat_minor": 5
}
